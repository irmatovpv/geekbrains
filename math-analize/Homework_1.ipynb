{
 "cells": [
  {
   "cell_type": "code",
   "execution_count": 1,
   "metadata": {},
   "outputs": [],
   "source": [
    "import numpy as np\n",
    "import random\n",
    "import math\n",
    "import itertools\n",
    "from sympy import factorial"
   ]
  },
  {
   "cell_type": "markdown",
   "metadata": {},
   "source": [
    "## ***Тема 1. Знакомство с математическим анализом***"
   ]
  },
  {
   "cell_type": "markdown",
   "metadata": {},
   "source": [
    "Как относятся друг к другу множество и последовательность? (в ответе использовать слова типа: часть, целое, общее, частное, родитель, дочерний субъект и т.д.)"
   ]
  },
  {
   "cell_type": "markdown",
   "metadata": {},
   "source": [
    "Последовательность  - это пронумерованный набор объектов множества, причем объкты могут повторятся и порядок имеет значение. Поэтому можно сказать что множество родительский объект по отношению к последовательности. "
   ]
  },
  {
   "cell_type": "markdown",
   "metadata": {},
   "source": [
    "**2. Прочитать высказывания математической логики, построить их отрицания и *установить истинность**"
   ]
  },
  {
   "cell_type": "markdown",
   "metadata": {},
   "source": [
    "1. Для любого y от 0 до 1, сигнум равен 1"
   ]
  },
  {
   "cell_type": "markdown",
   "metadata": {},
   "source": [
    "$$\\forall y \\in [0; 1] : sgn(y)=1$$"
   ]
  },
  {
   "cell_type": "markdown",
   "metadata": {},
   "source": [
    "False"
   ]
  },
  {
   "cell_type": "markdown",
   "metadata": {},
   "source": [
    "$$\\exists y\\in [0; 1] : sgn(y)\\not=1$$"
   ]
  },
  {
   "cell_type": "raw",
   "metadata": {},
   "source": [
    "True"
   ]
  },
  {
   "cell_type": "markdown",
   "metadata": {},
   "source": [
    "2. Для любого натурального числа n, большего 2, существуют такие натуральные x, y и z, при которых x в степени n равен сумме y в степени n и z в степени n."
   ]
  },
  {
   "cell_type": "markdown",
   "metadata": {},
   "source": [
    "$$\\forall n\\in \\mathbb{N}>2 :\\exists x, y, z\\in \\mathbb{N} : x^n = y^n + z^n$$"
   ]
  },
  {
   "cell_type": "markdown",
   "metadata": {},
   "source": [
    "True - Великая теорема Ферма"
   ]
  },
  {
   "cell_type": "markdown",
   "metadata": {},
   "source": [
    "$$\\exists n\\in \\mathbb{N}>2 :\\forall x, y, z\\in \\mathbb{N} : x^n\\ne y^n + z^n$$"
   ]
  },
  {
   "cell_type": "code",
   "execution_count": 10,
   "metadata": {},
   "outputs": [
    {
     "data": {
      "text/plain": [
       "False"
      ]
     },
     "execution_count": 10,
     "metadata": {},
     "output_type": "execute_result"
    }
   ],
   "source": [
    "False"
   ]
  },
  {
   "cell_type": "markdown",
   "metadata": {},
   "source": [
    "Для любого вещественного числа x существует вещественное подмножество X, где все элементы больше x."
   ]
  },
  {
   "cell_type": "markdown",
   "metadata": {},
   "source": [
    "$$\\forall x\\in \\mathbb{R}\\exists X\\in \\mathbb{R} : X > x$$"
   ]
  },
  {
   "cell_type": "code",
   "execution_count": 11,
   "metadata": {},
   "outputs": [
    {
     "data": {
      "text/plain": [
       "True"
      ]
     },
     "execution_count": 11,
     "metadata": {},
     "output_type": "execute_result"
    }
   ],
   "source": [
    "True"
   ]
  },
  {
   "cell_type": "markdown",
   "metadata": {},
   "source": [
    "$$\\exists x\\in \\mathbb{R}\\forall X\\in \\mathbb{R} : X\\leq x$$"
   ]
  },
  {
   "cell_type": "code",
   "execution_count": 13,
   "metadata": {},
   "outputs": [
    {
     "data": {
      "text/plain": [
       "False"
      ]
     },
     "execution_count": 13,
     "metadata": {},
     "output_type": "execute_result"
    }
   ],
   "source": [
    "False"
   ]
  },
  {
   "cell_type": "markdown",
   "metadata": {},
   "source": [
    "Для любого комплексного x не существует комплексного y, при котором x больше y или x меньше y"
   ]
  },
  {
   "cell_type": "markdown",
   "metadata": {},
   "source": [
    "$$\\forall x\\in \\mathbb{C}\\forall y\\in \\mathbb{C} : x > y || x < y$$"
   ]
  },
  {
   "cell_type": "markdown",
   "metadata": {},
   "source": [
    "False x может быть = y"
   ]
  },
  {
   "cell_type": "markdown",
   "metadata": {},
   "source": [
    "$$\\exists x\\in \\mathbb{C}\\exists y\\in \\mathbb{C} : x\\leq y, \\ x\\geq y$$"
   ]
  },
  {
   "cell_type": "code",
   "execution_count": 16,
   "metadata": {},
   "outputs": [
    {
     "data": {
      "text/plain": [
       "True"
      ]
     },
     "execution_count": 16,
     "metadata": {},
     "output_type": "execute_result"
    }
   ],
   "source": [
    "True"
   ]
  },
  {
   "cell_type": "markdown",
   "metadata": {},
   "source": [
    "## ***Тема 2. Множество***"
   ]
  },
  {
   "cell_type": "markdown",
   "metadata": {},
   "source": [
    "a: {3, 94}\n",
    "\n",
    "b: {13, 17, 28, 94, 31}\n",
    "\n",
    "c: {64, 3, 4, 75, 11, 54, 27, 29}"
   ]
  },
  {
   "cell_type": "markdown",
   "metadata": {},
   "source": [
    "x: {3, 94}\n",
    "\n",
    "y: {13, 17, 28, 94, 31}\n",
    "\n",
    "Объединение a | b: {17, 3, 28, 13, 94, 31}\n",
    "\n",
    "Пересечение a & b: {94}\n",
    "\n",
    "Разность a - b: {3}\n",
    "\n",
    "Симметрическая разность a ^ b: {17, 3, 28, 13, 31}\n",
    "\n",
    "Декартово произведение a * b: {(3, 13), (3, 94), (3, 31), (94, 17), (94, 28), (3, 28), (94, 31), (94, 94), (3, 17), (94, 13)}\n"
   ]
  },
  {
   "cell_type": "markdown",
   "metadata": {},
   "source": [
    "***Выполнить задание 1 на языке Python***"
   ]
  },
  {
   "cell_type": "code",
   "execution_count": 18,
   "metadata": {},
   "outputs": [],
   "source": [
    "random.seed(42)\n",
    "a = set([random.randint(0, 99) for _ in range(random.randint(1, 10))])\n",
    "b = set([random.randint(0, 99) for _ in range(random.randint(1, 10))])\n",
    "c = set([random.randint(0, 99) for _ in range(random.randint(1, 10))])"
   ]
  },
  {
   "cell_type": "code",
   "execution_count": 19,
   "metadata": {},
   "outputs": [
    {
     "name": "stdout",
     "output_type": "stream",
     "text": [
      "Множества: a, b\n",
      "x: {3, 94},\n",
      "y: {13, 17, 28, 94, 31}\n",
      "Объединение a | b: {17, 3, 28, 13, 94, 31}\n",
      "Пересечение a & b: {94}\n",
      "Разность a - b: {3}\n",
      "Симметрическая разность a ^ b: {17, 3, 28, 13, 31}\n",
      "Декартово произведение a * b: {(94, 94), (94, 17), (3, 94), (94, 13), (3, 17), (94, 31), (3, 13), (94, 28), (3, 28), (3, 31)}\n",
      "\n",
      "Множества: a, c\n",
      "x: {3, 94},\n",
      "y: {64, 3, 4, 75, 11, 54, 27, 29}\n",
      "Объединение a | c: {64, 3, 4, 75, 11, 54, 27, 29, 94}\n",
      "Пересечение a & c: {3}\n",
      "Разность a - c: {94}\n",
      "Симметрическая разность a ^ c: {64, 4, 75, 11, 54, 27, 29, 94}\n",
      "Декартово произведение a * c: {(94, 4), (3, 75), (3, 4), (3, 27), (94, 29), (94, 64), (94, 3), (3, 29), (94, 54), (3, 64), (3, 3), (3, 54), (94, 27), (94, 11), (94, 75), (3, 11)}\n",
      "\n",
      "Множества: b, c\n",
      "x: {13, 17, 28, 94, 31},\n",
      "y: {64, 3, 4, 75, 11, 54, 27, 29}\n",
      "Объединение b | c: {64, 3, 4, 75, 11, 13, 17, 54, 27, 28, 29, 94, 31}\n",
      "Пересечение b & c: set()\n",
      "Разность b - c: {13, 17, 28, 94, 31}\n",
      "Симметрическая разность b ^ c: {64, 3, 4, 75, 11, 13, 17, 54, 27, 28, 29, 94, 31}\n",
      "Декартово произведение b * c: {(31, 11), (13, 27), (31, 75), (17, 64), (17, 3), (28, 64), (28, 3), (94, 64), (94, 3), (13, 54), (31, 29), (94, 27), (13, 11), (17, 27), (13, 75), (28, 27), (31, 4), (13, 29), (17, 54), (28, 54), (94, 54), (17, 11), (28, 11), (94, 11), (17, 75), (28, 75), (94, 75), (13, 4), (17, 29), (28, 29), (94, 29), (31, 64), (31, 3), (28, 4), (17, 4), (94, 4), (31, 27), (13, 64), (13, 3), (31, 54)}\n",
      "\n"
     ]
    }
   ],
   "source": [
    "sets = {\n",
    "    'a': a,\n",
    "    'b': b,\n",
    "    'c': c\n",
    "}\n",
    "for combination in itertools.combinations(sets.keys(), 2):\n",
    "    x, y = combination[0], combination[1]\n",
    "    print(f'Множества: {x}, {y}')\n",
    "    print(f'x: {sets[x]},\\ny: {sets[y]}')\n",
    "    print(f'Объединение {x} | {y}: {sets[x] | sets[y]}')\n",
    "    print(f'Пересечение {x} & {y}: {sets[x] & sets[y]}')\n",
    "    print(f'Разность {x} - {y}: {sets[x] - sets[y]}')\n",
    "    print(f'Симметрическая разность {x} ^ {y}: {sets[x] ^ sets[y]}')\n",
    "    cartesian = []\n",
    "    for item in itertools.product(sets[x], sets[y]):\n",
    "        cartesian.append(item)\n",
    "    print(f'Декартово произведение {x} * {y}: {set(cartesian)}')\n",
    "    print()"
   ]
  },
  {
   "cell_type": "markdown",
   "metadata": {},
   "source": [
    "***Тема 3. Последовательность***"
   ]
  },
  {
   "cell_type": "code",
   "execution_count": 20,
   "metadata": {},
   "outputs": [],
   "source": [
    "\n",
    "def monotony(sequence):\n",
    "    seq_raise = None\n",
    "    prev_seq_raise = None\n",
    "    for i in range(1, len(sequence)):\n",
    "        if sequence[i] > sequence[i-1]:\n",
    "            seq_raise = 'Yes'\n",
    "        elif sequence[i] < sequence[i-1]:\n",
    "            seq_raise = 'No'\n",
    "        else:\n",
    "            seq_raise = 'Eq'\n",
    "        if prev_seq_raise is None:\n",
    "            prev_seq_raise = seq_raise\n",
    "        \n",
    "        if prev_seq_raise != seq_raise:\n",
    "            return \"Последовательность не монотонна\"\n",
    "\n",
    "        prev_seq_raise = seq_raise\n",
    "    if seq_raise == 'Yes':\n",
    "        return \"Последовательность монотонно возрастает\"\n",
    "    if seq_raise == 'No':\n",
    "        return \"Последовательность монотонно убывает\"\n",
    "    if seq_raise == 'Eq':\n",
    "        return 'Последовательность не изменяетя'\n",
    "            "
   ]
  },
  {
   "cell_type": "code",
   "execution_count": 21,
   "metadata": {},
   "outputs": [
    {
     "name": "stdout",
     "output_type": "stream",
     "text": [
      "Последовательность монотонно возрастает\n",
      "Перывые 10 элементов последовательности 2 ^ n - n: \n",
      "[1, 2, 5, 12, 27, 58, 121, 248, 503, 1014]\n",
      "Пятый по счету член последовательности 2 ^ n - n: 27\n"
     ]
    }
   ],
   "source": [
    "\n",
    "# a: 2 ** n - n\n",
    "# n = 1, +oo\n",
    "\n",
    "# последовательность ограничена снизу числом 1\n",
    "\n",
    "def f1(n):\n",
    "    return 2 ** n - n\n",
    "\n",
    "ns = list(range(1, 11, 1))\n",
    "elements = list(map(f1, ns))\n",
    "\n",
    "print(monotony(elements))\n",
    "print(f'Перывые 10 элементов последовательности 2 ^ n - n: \\n{elements}')\n",
    "print(f'Пятый по счету член последовательности 2 ^ n - n: {f1(ns[4])}')"
   ]
  },
  {
   "cell_type": "code",
   "execution_count": 22,
   "metadata": {},
   "outputs": [
    {
     "name": "stdout",
     "output_type": "stream",
     "text": [
      "Последовательность монотонно убывает\n",
      "Перывые 10 элементов последовательности 1 / (n - 1): \n",
      "[1.0, 0.5, 0.3333333333333333, 0.25, 0.2, 0.16666666666666666, 0.14285714285714285, 0.125, 0.1111111111111111, 0.1]\n",
      "Пятый по счету член последовательности 1 / (n - 1): 0.2\n"
     ]
    }
   ],
   "source": [
    "\n",
    "# b: 1 / (n - 1)\n",
    "# n = 2, +oo\n",
    "\n",
    "# последовательность ограничена сверху числом 1\n",
    "\n",
    "def f2(n):\n",
    "    return 1 / (n - 1)\n",
    "\n",
    "ns = list(range(2, 12, 1))\n",
    "elements = list(map(f2, ns))\n",
    "\n",
    "print(monotony(elements))\n",
    "print(f'Перывые 10 элементов последовательности 1 / (n - 1): \\n{elements}')\n",
    "print(f'Пятый по счету член последовательности 1 / (n - 1): {f2(ns[4])}')"
   ]
  },
  {
   "cell_type": "code",
   "execution_count": 23,
   "metadata": {},
   "outputs": [
    {
     "name": "stdout",
     "output_type": "stream",
     "text": [
      "Последовательность монотонно возрастает\n",
      "Перывые 10 элементов последовательности -1 ^ n + sqrt(2 * n): \n",
      "[0.41421356237309515, 1.0, 1.4494897427831779, 1.8284271247461903, 2.1622776601683795, 2.4641016151377544, 2.7416573867739413, 3.0, 3.2426406871192848, 3.4721359549995796]\n",
      "Пятый по счету член последовательности -1 ^ n + sqrt(2 * n): 2.1622776601683795\n"
     ]
    }
   ],
   "source": [
    "\n",
    "# b: -1 ** n + sqrt(2 * n)\n",
    "# n = 1, +oo\n",
    "\n",
    "# последовательность ограничена снизу числом -1\n",
    "\n",
    "def f3(n):\n",
    "    return -1 ** n + math.sqrt(2 * n)\n",
    "\n",
    "ns = list(range(1, 11, 1))\n",
    "elements = list(map(f3, ns))\n",
    "\n",
    "print(monotony(elements))\n",
    "print(f'Перывые 10 элементов последовательности -1 ^ n + sqrt(2 * n): \\n{elements}')\n",
    "print(f'Пятый по счету член последовательности -1 ^ n + sqrt(2 * n): {f3(ns[4])}')"
   ]
  },
  {
   "cell_type": "code",
   "execution_count": 24,
   "metadata": {},
   "outputs": [
    {
     "name": "stdout",
     "output_type": "stream",
     "text": [
      "Последовательность монотонно убывает\n",
      "Перывые 10 элементов последовательности (-1) ^ (2 * n) + 1 / (n ^ 2): \n",
      "[2.0, 1.25, 1.1111111111111112, 1.0625, 1.04, 1.0277777777777777, 1.0204081632653061, 1.015625, 1.0123456790123457, 1.01]\n",
      "Пятый по счету член последовательности (-1) ^ (2 * n) + 1 / (n ^ 2): 1.04\n"
     ]
    }
   ],
   "source": [
    "\n",
    "# b: (-1) ** (2 * n) + 1 / (n ** 2)\n",
    "# n = 1, +oo\n",
    "\n",
    "# последовательность ограничена сверху числом 2\n",
    "\n",
    "def f4(n):\n",
    "    return (-1) ** (2 * n) + 1 / (n ** 2)\n",
    "\n",
    "ns = list(range(1, 11, 1))\n",
    "elements = list(map(f4, ns))\n",
    "\n",
    "print(monotony(elements))\n",
    "print(f'Перывые 10 элементов последовательности (-1) ^ (2 * n) + 1 / (n ^ 2): \\n{elements}')\n",
    "print(f'Пятый по счету член последовательности (-1) ^ (2 * n) + 1 / (n ^ 2): {f4(ns[4])}')"
   ]
  },
  {
   "cell_type": "code",
   "execution_count": 25,
   "metadata": {},
   "outputs": [
    {
     "name": "stdout",
     "output_type": "stream",
     "text": [
      "a12: 194\n"
     ]
    }
   ],
   "source": [
    "a1 = 128\n",
    "d = 6\n",
    "\n",
    "# a(n) = a1 + (n - 1) * d\n",
    "\n",
    "a12 = a1 + (12 - 1) * d\n",
    "\n",
    "print(f'a12: {a12}')"
   ]
  },
  {
   "cell_type": "code",
   "execution_count": null,
   "metadata": {},
   "outputs": [],
   "source": []
  }
 ],
 "metadata": {
  "kernelspec": {
   "display_name": "Python 3",
   "language": "python",
   "name": "python3"
  },
  "language_info": {
   "codemirror_mode": {
    "name": "ipython",
    "version": 3
   },
   "file_extension": ".py",
   "mimetype": "text/x-python",
   "name": "python",
   "nbconvert_exporter": "python",
   "pygments_lexer": "ipython3",
   "version": "3.8.3"
  }
 },
 "nbformat": 4,
 "nbformat_minor": 4
}
